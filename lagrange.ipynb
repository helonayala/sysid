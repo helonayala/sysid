{
  "nbformat": 4,
  "nbformat_minor": 0,
  "metadata": {
    "colab": {
      "provenance": [],
      "authorship_tag": "ABX9TyOycMR9CY+P7CbBQsmka2Hx",
      "include_colab_link": true
    },
    "kernelspec": {
      "name": "python3",
      "display_name": "Python 3"
    },
    "language_info": {
      "name": "python"
    }
  },
  "cells": [
    {
      "cell_type": "markdown",
      "metadata": {
        "id": "view-in-github",
        "colab_type": "text"
      },
      "source": [
        "<a href=\"https://colab.research.google.com/github/helonayala/sysid/blob/main/lagrange.ipynb\" target=\"_parent\"><img src=\"https://colab.research.google.com/assets/colab-badge.svg\" alt=\"Open In Colab\"/></a>"
      ]
    },
    {
      "cell_type": "markdown",
      "source": [
        "This script demonstrates a symbolic workflow for modeling and linearizing a mechanical system.\n",
        "\n",
        "The process involves:\n",
        "* Deriving the nonlinear equations of motion (EOM) using the Lagrangian method.\n",
        "* Linearizing the EOM around a chosen equilibrium point.\n",
        "\n",
        "This modeling approach is fundamental for applications like system identification and model-based control design.\n",
        "\n",
        "## EOMs to state space\n",
        "\n",
        "The Lagrange equations are\n",
        "\n",
        "$$\\frac{d}{dt}\\left\\lbrack \\frac{\\partial L}{\\partial {\\dot{q} }_i }\\right\\rbrack -\\frac{\\partial L}{\\partial q_i }=F_i^e ,i=1,2,\\dots ,n$$\n",
        "\n",
        "where $L(q,\\dot{q} )=T(q,\\dot{q} )-V(q)$ is the Lagrangian function, $q_i$ represents the $n$ degrees of freedom (generalized variables), and $F_i^e$ is the sum of the forcing and dissipative terms.\n",
        "\n",
        "To obtain the equations of motion for mechanical systems, one simply performs the kinematics of the system using the variables $q_i ,{\\dot{q} }_i$ and applies the Lagrange equation $n$ times. The result can be described in matrix form as\n",
        "\n",
        "$$M(q)\\ddot{q} +C(q,\\dot{q} )+k(q)=\\tau (u)$$\n",
        "\n",
        "where $u$ is the vector of exogenous terms. The nonlinear state-space model\n",
        "\n",
        "$$\\dot{x} =f(x,u)$$\n",
        "\n",
        "can then be obtained, considering\n",
        "\n",
        "$$x = \\begin{bmatrix} q \\\\ \\dot{q} \\end{bmatrix} $$\n",
        "\n",
        "for a positive definite matrix $M(q)$, we have\n",
        "\n",
        "$$\\dot{x} = \\begin{bmatrix} \\dot{q} \\\\ M(q)^{-1}(\\tau(u) - C(x) - k(x)) \\end{bmatrix}$$\n",
        "\n",
        "## Linearization\n",
        "\n",
        "If the mechanical system has any nonlinearities, the resulting nonlinear state-space equations can be linearized around an equilibrium point using Taylor series expansion. For details, see the book by [Kluver, 2020](https://www.wiley.com/en-us/Dynamic+Systems%3A+Modeling%2C+Simulation%2C+and+Control%2C+2nd+Edition-p-9781119601869)"
      ],
      "metadata": {
        "id": "yxMBOCkgvAc0"
      }
    },
    {
      "cell_type": "markdown",
      "source": [
        "## Imports and functions"
      ],
      "metadata": {
        "id": "-XE-BQRCuPqp"
      }
    },
    {
      "cell_type": "code",
      "execution_count": 3,
      "metadata": {
        "colab": {
          "base_uri": "https://localhost:8080/"
        },
        "id": "pDbSKVszfjij",
        "outputId": "aac7d63f-a44a-4e56-b074-0c4df1dd0b14"
      },
      "outputs": [
        {
          "output_type": "stream",
          "name": "stdout",
          "text": [
            "Collecting control\n",
            "  Downloading control-0.10.1-py3-none-any.whl.metadata (7.6 kB)\n",
            "Requirement already satisfied: numpy>=1.23 in /usr/local/lib/python3.11/dist-packages (from control) (2.0.2)\n",
            "Requirement already satisfied: scipy>=1.8 in /usr/local/lib/python3.11/dist-packages (from control) (1.15.3)\n",
            "Requirement already satisfied: matplotlib>=3.6 in /usr/local/lib/python3.11/dist-packages (from control) (3.10.0)\n",
            "Requirement already satisfied: contourpy>=1.0.1 in /usr/local/lib/python3.11/dist-packages (from matplotlib>=3.6->control) (1.3.2)\n",
            "Requirement already satisfied: cycler>=0.10 in /usr/local/lib/python3.11/dist-packages (from matplotlib>=3.6->control) (0.12.1)\n",
            "Requirement already satisfied: fonttools>=4.22.0 in /usr/local/lib/python3.11/dist-packages (from matplotlib>=3.6->control) (4.58.1)\n",
            "Requirement already satisfied: kiwisolver>=1.3.1 in /usr/local/lib/python3.11/dist-packages (from matplotlib>=3.6->control) (1.4.8)\n",
            "Requirement already satisfied: packaging>=20.0 in /usr/local/lib/python3.11/dist-packages (from matplotlib>=3.6->control) (24.2)\n",
            "Requirement already satisfied: pillow>=8 in /usr/local/lib/python3.11/dist-packages (from matplotlib>=3.6->control) (11.2.1)\n",
            "Requirement already satisfied: pyparsing>=2.3.1 in /usr/local/lib/python3.11/dist-packages (from matplotlib>=3.6->control) (3.2.3)\n",
            "Requirement already satisfied: python-dateutil>=2.7 in /usr/local/lib/python3.11/dist-packages (from matplotlib>=3.6->control) (2.9.0.post0)\n",
            "Requirement already satisfied: six>=1.5 in /usr/local/lib/python3.11/dist-packages (from python-dateutil>=2.7->matplotlib>=3.6->control) (1.17.0)\n",
            "Downloading control-0.10.1-py3-none-any.whl (549 kB)\n",
            "\u001b[2K   \u001b[90m━━━━━━━━━━━━━━━━━━━━━━━━━━━━━━━━━━━━━━━━\u001b[0m \u001b[32m549.6/549.6 kB\u001b[0m \u001b[31m9.7 MB/s\u001b[0m eta \u001b[36m0:00:00\u001b[0m\n",
            "\u001b[?25hInstalling collected packages: control\n",
            "Successfully installed control-0.10.1\n"
          ]
        }
      ],
      "source": [
        "!pip install control\n",
        "import sympy as sp\n",
        "import numpy as np\n",
        "import control as ct\n",
        "import matplotlib.pyplot as plt\n",
        "from IPython.display import display\n",
        "from scipy.integrate import solve_ivp # Import the standard ODE solver\n",
        "\n",
        "# Use SymPy's best available renderer for equations\n",
        "sp.init_printing(use_latex='mathjax')\n",
        "\n",
        "# --- Helper Functions for Generalization ---\n",
        "\n",
        "def create_gen_vars(ndof, t):\n",
        "    \"\"\"Creates symbolic generalized coordinates, velocities, and accelerations.\"\"\"\n",
        "    q = sp.Matrix([sp.Function(f'q{i+1}')(t) for i in range(ndof)])\n",
        "    qp = q.diff(t)\n",
        "    qpp = qp.diff(t)\n",
        "    return q, qp, qpp\n",
        "\n",
        "def derive_eom(T, V, q, Fext, t):\n",
        "    \"\"\"Derives the symbolic EOM using the Euler-Lagrange equation.\"\"\"\n",
        "    ndof = len(q)\n",
        "    L = T - V\n",
        "    qp = q.diff(t)\n",
        "    qpp = qp.diff(t)\n",
        "    EOM_LHS = sp.Matrix([\n",
        "        (sp.diff(sp.diff(L, qp[i]), t) - sp.diff(L, q[i])).simplify()\n",
        "        for i in range(ndof)\n",
        "    ])\n",
        "    return sp.Eq(EOM_LHS, Fext), qpp\n",
        "\n",
        "\n",
        "def get_state_space_representation(EOM, q, qp, qpp, u_vec):\n",
        "    \"\"\"Converts the symbolic EOM into a symbolic state-space representation.\"\"\"\n",
        "    ndof = len(q)\n",
        "    sol = sp.solve(EOM, qpp, dict=True)[0]\n",
        "    q_s = sp.symbols(f'q1:{ndof+1}_s')\n",
        "    qp_s = sp.symbols(f'q1:{ndof+1}p_s')\n",
        "\n",
        "    sub_map = {}\n",
        "    for i in range(ndof):\n",
        "        sub_map[q[i]] = q_s[i]\n",
        "        sub_map[qp[i]] = qp_s[i]\n",
        "        sub_map[sp.sin(q[i])] = sp.sin(q_s[i])\n",
        "        sub_map[sp.cos(q[i])] = sp.cos(q_s[i])\n",
        "\n",
        "    x = sp.Matrix([*q_s, *qp_s])\n",
        "    u = u_vec\n",
        "\n",
        "    xp_list = list(qp_s)\n",
        "    for i in range(ndof):\n",
        "        xp_list.append(sol[qpp[i]].subs(sub_map))\n",
        "    xp = sp.Matrix(xp_list)\n",
        "\n",
        "    return xp, x, u\n",
        "\n"
      ]
    },
    {
      "cell_type": "markdown",
      "source": [
        "## Energy terms\n",
        "\n",
        "We use for this example the inverted pendulum on a cart. Only spung and unsprung masses are considered for inertia, and damping is present in $\\theta$ angle of rotation (0 is pointing upwards)."
      ],
      "metadata": {
        "id": "CvnwLiYEubQ2"
      }
    },
    {
      "cell_type": "code",
      "source": [
        "# =============================================================================\n",
        "# 1. System Definition\n",
        "# =============================================================================\n",
        "print(\"--- 1. System Definition ---\")\n",
        "\n",
        "# Define symbolic variables for the system parameters\n",
        "m, M, L, g, t, b = sp.symbols('m M L g t b')\n",
        "\n",
        "# Define symbolic variable for the input force\n",
        "f_in = sp.symbols('f_in')\n",
        "\n",
        "# Define generalized coordinates, velocities, and accelerations\n",
        "ndof = 2\n",
        "print(f\"\\nNumber of Degrees of Freedom (ndof): {ndof}\")\n",
        "\n",
        "q, qp, qpp = create_gen_vars(ndof, t)\n",
        "print(\"\\nGeneralized coordinates vector (q):\")\n",
        "display(q)\n",
        "print(\"\\nGeneralized velocities vector (qp):\")\n",
        "display(qp)\n",
        "print(\"\\nGeneralized accelerations vector (qpp):\")\n",
        "display(qpp)\n",
        "\n",
        "# =============================================================================\n",
        "# 2. Kinematics, Energy, and Forces for the Inverted Pendulum\n",
        "# =============================================================================\n",
        "print(\"\\n--- 2. Kinematics, Energy, and Forces ---\")\n",
        "\n",
        "# Unpack coordinates and velocities for easier use\n",
        "q1, q2 = q\n",
        "q1p, q2p = qp\n",
        "\n",
        "# Define kinematics (positions of components)\n",
        "x_cart = q1\n",
        "x_pend = q1 + L * sp.sin(q2)\n",
        "y_pend = L * sp.cos(q2)\n",
        "\n",
        "# Calculate velocities squared (for kinetic energy terms)\n",
        "v_cart_sq = x_cart.diff(t)**2\n",
        "v_pend_sq = x_pend.diff(t)**2 + y_pend.diff(t)**2\n",
        "\n",
        "# Define potential energy (V) of the system\n",
        "V = M * g * y_pend\n",
        "print(\"\\nPotential Energy (V):\")\n",
        "display(V)\n",
        "\n",
        "# Define kinetic energy (T) of the system\n",
        "T = 1/2 * m * v_cart_sq + 1/2 * M * sp.simplify(v_pend_sq)\n",
        "print(\"\\nKinetic Energy (T):\")\n",
        "display(T)\n",
        "\n",
        "# Define generalized external forces, including friction on the pendulum joint\n",
        "Fext = sp.Matrix([f_in, -b * q2p])\n",
        "print(\"\\nGeneralized external forces vector (Fext):\")\n",
        "display(Fext)\n",
        "\n",
        "# Define the control input vector (for linearization)\n",
        "u_vec = sp.Matrix([f_in])"
      ],
      "metadata": {
        "colab": {
          "base_uri": "https://localhost:8080/",
          "height": 576
        },
        "id": "mkj2BWrTuahu",
        "outputId": "e7fc3bc7-70d3-4ca9-a4f0-e3a0026eedc0"
      },
      "execution_count": 8,
      "outputs": [
        {
          "output_type": "stream",
          "name": "stdout",
          "text": [
            "--- 1. System Definition ---\n",
            "\n",
            "Number of Degrees of Freedom (ndof): 2\n",
            "\n",
            "Generalized coordinates vector (q):\n"
          ]
        },
        {
          "output_type": "display_data",
          "data": {
            "text/plain": [
              "⎡q₁(t)⎤\n",
              "⎢     ⎥\n",
              "⎣q₂(t)⎦"
            ],
            "text/latex": "$\\displaystyle \\left[\\begin{matrix}q_{1}{\\left(t \\right)}\\\\q_{2}{\\left(t \\right)}\\end{matrix}\\right]$"
          },
          "metadata": {}
        },
        {
          "output_type": "stream",
          "name": "stdout",
          "text": [
            "\n",
            "Generalized velocities vector (qp):\n"
          ]
        },
        {
          "output_type": "display_data",
          "data": {
            "text/plain": [
              "⎡d        ⎤\n",
              "⎢──(q₁(t))⎥\n",
              "⎢dt       ⎥\n",
              "⎢         ⎥\n",
              "⎢d        ⎥\n",
              "⎢──(q₂(t))⎥\n",
              "⎣dt       ⎦"
            ],
            "text/latex": "$\\displaystyle \\left[\\begin{matrix}\\frac{d}{d t} q_{1}{\\left(t \\right)}\\\\\\frac{d}{d t} q_{2}{\\left(t \\right)}\\end{matrix}\\right]$"
          },
          "metadata": {}
        },
        {
          "output_type": "stream",
          "name": "stdout",
          "text": [
            "\n",
            "Generalized accelerations vector (qpp):\n"
          ]
        },
        {
          "output_type": "display_data",
          "data": {
            "text/plain": [
              "⎡ 2        ⎤\n",
              "⎢d         ⎥\n",
              "⎢───(q₁(t))⎥\n",
              "⎢  2       ⎥\n",
              "⎢dt        ⎥\n",
              "⎢          ⎥\n",
              "⎢ 2        ⎥\n",
              "⎢d         ⎥\n",
              "⎢───(q₂(t))⎥\n",
              "⎢  2       ⎥\n",
              "⎣dt        ⎦"
            ],
            "text/latex": "$\\displaystyle \\left[\\begin{matrix}\\frac{d^{2}}{d t^{2}} q_{1}{\\left(t \\right)}\\\\\\frac{d^{2}}{d t^{2}} q_{2}{\\left(t \\right)}\\end{matrix}\\right]$"
          },
          "metadata": {}
        },
        {
          "output_type": "stream",
          "name": "stdout",
          "text": [
            "\n",
            "--- 2. Kinematics, Energy, and Forces ---\n",
            "\n",
            "Potential Energy (V):\n"
          ]
        },
        {
          "output_type": "display_data",
          "data": {
            "text/plain": [
              "L⋅M⋅g⋅cos(q₂(t))"
            ],
            "text/latex": "$\\displaystyle L M g \\cos{\\left(q_{2}{\\left(t \\right)} \\right)}$"
          },
          "metadata": {}
        },
        {
          "output_type": "stream",
          "name": "stdout",
          "text": [
            "\n",
            "Kinetic Energy (T):\n"
          ]
        },
        {
          "output_type": "display_data",
          "data": {
            "text/plain": [
              "      ⎛              2                                                   2⎞    ↪\n",
              "      ⎜ 2 ⎛d        ⎞                   d         d           ⎛d        ⎞ ⎟    ↪\n",
              "0.5⋅M⋅⎜L ⋅⎜──(q₂(t))⎟  + 2⋅L⋅cos(q₂(t))⋅──(q₁(t))⋅──(q₂(t)) + ⎜──(q₁(t))⎟ ⎟ +  ↪\n",
              "      ⎝   ⎝dt       ⎠                   dt        dt          ⎝dt       ⎠ ⎠    ↪\n",
              "\n",
              "↪                  2\n",
              "↪       ⎛d        ⎞ \n",
              "↪ 0.5⋅m⋅⎜──(q₁(t))⎟ \n",
              "↪       ⎝dt       ⎠ "
            ],
            "text/latex": "$\\displaystyle 0.5 M \\left(L^{2} \\left(\\frac{d}{d t} q_{2}{\\left(t \\right)}\\right)^{2} + 2 L \\cos{\\left(q_{2}{\\left(t \\right)} \\right)} \\frac{d}{d t} q_{1}{\\left(t \\right)} \\frac{d}{d t} q_{2}{\\left(t \\right)} + \\left(\\frac{d}{d t} q_{1}{\\left(t \\right)}\\right)^{2}\\right) + 0.5 m \\left(\\frac{d}{d t} q_{1}{\\left(t \\right)}\\right)^{2}$"
          },
          "metadata": {}
        },
        {
          "output_type": "stream",
          "name": "stdout",
          "text": [
            "\n",
            "Generalized external forces vector (Fext):\n"
          ]
        },
        {
          "output_type": "display_data",
          "data": {
            "text/plain": [
              "⎡    fᵢₙ     ⎤\n",
              "⎢            ⎥\n",
              "⎢   d        ⎥\n",
              "⎢-b⋅──(q₂(t))⎥\n",
              "⎣   dt       ⎦"
            ],
            "text/latex": "$\\displaystyle \\left[\\begin{matrix}f_{in}\\\\- b \\frac{d}{d t} q_{2}{\\left(t \\right)}\\end{matrix}\\right]$"
          },
          "metadata": {}
        }
      ]
    },
    {
      "cell_type": "markdown",
      "source": [
        "## Obtaining state equations"
      ],
      "metadata": {
        "id": "OAZwVqL1uUqv"
      }
    },
    {
      "cell_type": "code",
      "source": [
        "# =============================================================================\n",
        "# 3. Automated EOM Derivation\n",
        "# =============================================================================\n",
        "print(\"--- 3. Automated EOM Derivation ---\")\n",
        "EOM, qpp = derive_eom(T, V, q, Fext, t)\n",
        "\n",
        "# Display the symbolic Equations of Motion\n",
        "print(\"\\nDerived Equations of Motion (EOM):\")\n",
        "display(EOM)\n",
        "\n",
        "# =============================================================================\n",
        "# 4. Automated State-Space Formulation\n",
        "# =============================================================================\n",
        "print(\"\\n--- 4. Automated State-Space Formulation ---\")\n",
        "xp, x, u = get_state_space_representation(EOM, q, qp, qpp, u_vec)\n",
        "\n",
        "# Display the symbolic state-space vectors\n",
        "print(\"\\nState Vector (x):\")\n",
        "display(x)\n",
        "print(\"\\nInput Vector (u):\")\n",
        "display(u)\n",
        "print(\"\\nState Derivative Vector (xp):\")\n",
        "display(xp)\n"
      ],
      "metadata": {
        "colab": {
          "base_uri": "https://localhost:8080/",
          "height": 479
        },
        "id": "ECBUPL1wuUIX",
        "outputId": "1721aafb-ee82-4f9a-f8fe-418107736c14"
      },
      "execution_count": 5,
      "outputs": [
        {
          "output_type": "stream",
          "name": "stdout",
          "text": [
            "--- 3. Automated EOM Derivation ---\n",
            "\n",
            "Derived Equations of Motion (EOM):\n"
          ]
        },
        {
          "output_type": "display_data",
          "data": {
            "text/plain": [
              "⎡      ⎛                          2                 2            2        ⎞    ↪\n",
              "⎢      ⎜               ⎛d        ⎞                 d            d         ⎟    ↪\n",
              "⎢1.0⋅M⋅⎜- L⋅sin(q₂(t))⋅⎜──(q₂(t))⎟  + L⋅cos(q₂(t))⋅───(q₂(t)) + ───(q₁(t))⎟ +  ↪\n",
              "⎢      ⎜               ⎝dt       ⎠                   2            2       ⎟    ↪\n",
              "⎢      ⎝                                           dt           dt        ⎠    ↪\n",
              "⎢                                                                              ↪\n",
              "⎢                        ⎛   2                                      2        ⎞ ↪\n",
              "⎢                        ⎜  d                                      d         ⎟ ↪\n",
              "⎢                1.0⋅L⋅M⋅⎜L⋅───(q₂(t)) - g⋅sin(q₂(t)) + cos(q₂(t))⋅───(q₁(t))⎟ ↪\n",
              "⎢                        ⎜    2                                      2       ⎟ ↪\n",
              "⎣                        ⎝  dt                                     dt        ⎠ ↪\n",
              "\n",
              "↪        2        ⎤                 \n",
              "↪       d         ⎥                 \n",
              "↪ 1.0⋅m⋅───(q₁(t))⎥                 \n",
              "↪         2       ⎥   ⎡    fᵢₙ     ⎤\n",
              "↪       dt        ⎥   ⎢            ⎥\n",
              "↪                 ⎥ = ⎢   d        ⎥\n",
              "↪                 ⎥   ⎢-b⋅──(q₂(t))⎥\n",
              "↪                 ⎥   ⎣   dt       ⎦\n",
              "↪                 ⎥                 \n",
              "↪                 ⎥                 \n",
              "↪                 ⎦                 "
            ],
            "text/latex": "$\\displaystyle \\left[\\begin{matrix}1.0 M \\left(- L \\sin{\\left(q_{2}{\\left(t \\right)} \\right)} \\left(\\frac{d}{d t} q_{2}{\\left(t \\right)}\\right)^{2} + L \\cos{\\left(q_{2}{\\left(t \\right)} \\right)} \\frac{d^{2}}{d t^{2}} q_{2}{\\left(t \\right)} + \\frac{d^{2}}{d t^{2}} q_{1}{\\left(t \\right)}\\right) + 1.0 m \\frac{d^{2}}{d t^{2}} q_{1}{\\left(t \\right)}\\\\1.0 L M \\left(L \\frac{d^{2}}{d t^{2}} q_{2}{\\left(t \\right)} - g \\sin{\\left(q_{2}{\\left(t \\right)} \\right)} + \\cos{\\left(q_{2}{\\left(t \\right)} \\right)} \\frac{d^{2}}{d t^{2}} q_{1}{\\left(t \\right)}\\right)\\end{matrix}\\right] = \\left[\\begin{matrix}f_{in}\\\\- b \\frac{d}{d t} q_{2}{\\left(t \\right)}\\end{matrix}\\right]$"
          },
          "metadata": {}
        },
        {
          "output_type": "stream",
          "name": "stdout",
          "text": [
            "\n",
            "--- 4. Automated State-Space Formulation ---\n",
            "\n",
            "State Vector (x):\n"
          ]
        },
        {
          "output_type": "display_data",
          "data": {
            "text/plain": [
              "⎡q₁ ₛ⎤\n",
              "⎢    ⎥\n",
              "⎢q₂ ₛ⎥\n",
              "⎢    ⎥\n",
              "⎢q1pₛ⎥\n",
              "⎢    ⎥\n",
              "⎣q2pₛ⎦"
            ],
            "text/latex": "$\\displaystyle \\left[\\begin{matrix}q_{1 s}\\\\q_{2 s}\\\\q1p_{s}\\\\q2p_{s}\\end{matrix}\\right]$"
          },
          "metadata": {}
        },
        {
          "output_type": "stream",
          "name": "stdout",
          "text": [
            "\n",
            "Input Vector (u):\n"
          ]
        },
        {
          "output_type": "display_data",
          "data": {
            "text/plain": [
              "[fᵢₙ]"
            ],
            "text/latex": "$\\displaystyle \\left[\\begin{matrix}f_{in}\\end{matrix}\\right]$"
          },
          "metadata": {}
        },
        {
          "output_type": "stream",
          "name": "stdout",
          "text": [
            "\n",
            "State Derivative Vector (xp):\n"
          ]
        },
        {
          "output_type": "display_data",
          "data": {
            "text/plain": [
              "⎡                                                                              ↪\n",
              "⎢                                                                              ↪\n",
              "⎢                                                                              ↪\n",
              "⎢                                                                              ↪\n",
              "⎢                                                          2       2           ↪\n",
              "⎢                                                         L ⋅M⋅q2pₛ ⋅sin(q₂ ₛ) ↪\n",
              "⎢                                                     ──────────────────────── ↪\n",
              "⎢                                                              2               ↪\n",
              "⎢                                                     - L⋅M⋅cos (q₂ ₛ) + L⋅M + ↪\n",
              "⎢                                                                              ↪\n",
              "⎢     2  2     2                                     2                         ↪\n",
              "⎢    L ⋅M ⋅q2pₛ ⋅sin(q₂ ₛ)⋅cos(q₂ ₛ)              L⋅M ⋅g⋅sin(q₂ ₛ)             ↪\n",
              "⎢- ─────────────────────────────────── + ─────────────────────────────────── - ↪\n",
              "⎢     2  2    2          2  2    2          2  2    2          2  2    2       ↪\n",
              "⎣  - L ⋅M ⋅cos (q₂ ₛ) + L ⋅M  + L ⋅M⋅m   - L ⋅M ⋅cos (q₂ ₛ) + L ⋅M  + L ⋅M⋅m   ↪\n",
              "\n",
              "↪                                   q1pₛ                                       ↪\n",
              "↪                                                                              ↪\n",
              "↪                                   q2pₛ                                       ↪\n",
              "↪                                                                              ↪\n",
              "↪                                                                              ↪\n",
              "↪         L⋅M⋅g⋅sin(q₂ ₛ)⋅cos(q₂ ₛ)                L⋅fᵢₙ                     b ↪\n",
              "↪ ──── - ──────────────────────────── + ──────────────────────────── + ─────── ↪\n",
              "↪                 2                              2                             ↪\n",
              "↪  L⋅m   - L⋅M⋅cos (q₂ ₛ) + L⋅M + L⋅m   - L⋅M⋅cos (q₂ ₛ) + L⋅M + L⋅m   - L⋅M⋅c ↪\n",
              "↪                                                                              ↪\n",
              "↪                                                                              ↪\n",
              "↪           L⋅M⋅fᵢₙ⋅cos(q₂ ₛ)                     L⋅M⋅g⋅m⋅sin(q₂ ₛ)            ↪\n",
              "↪  ─────────────────────────────────── + ─────────────────────────────────── - ↪\n",
              "↪     2  2    2          2  2    2          2  2    2          2  2    2       ↪\n",
              "↪  - L ⋅M ⋅cos (q₂ ₛ) + L ⋅M  + L ⋅M⋅m   - L ⋅M ⋅cos (q₂ ₛ) + L ⋅M  + L ⋅M⋅m   ↪\n",
              "\n",
              "↪                                                                           ⎤\n",
              "↪                                                                           ⎥\n",
              "↪                                                                           ⎥\n",
              "↪                                                                           ⎥\n",
              "↪                                                                           ⎥\n",
              "↪ ⋅q2pₛ⋅cos(q₂ ₛ)                                                           ⎥\n",
              "↪ ─────────────────────                                                     ⎥\n",
              "↪   2                                                                       ⎥\n",
              "↪ os (q₂ ₛ) + L⋅M + L⋅m                                                     ⎥\n",
              "↪                                                                           ⎥\n",
              "↪                                                                           ⎥\n",
              "↪               M⋅b⋅q2pₛ                              b⋅m⋅q2pₛ              ⎥\n",
              "↪  ─────────────────────────────────── - ───────────────────────────────────⎥\n",
              "↪     2  2    2          2  2    2          2  2    2          2  2    2    ⎥\n",
              "↪  - L ⋅M ⋅cos (q₂ ₛ) + L ⋅M  + L ⋅M⋅m   - L ⋅M ⋅cos (q₂ ₛ) + L ⋅M  + L ⋅M⋅m⎦"
            ],
            "text/latex": "$\\displaystyle \\left[\\begin{matrix}q1p_{s}\\\\q2p_{s}\\\\\\frac{L^{2} M q2p_{s}^{2} \\sin{\\left(q_{2 s} \\right)}}{- L M \\cos^{2}{\\left(q_{2 s} \\right)} + L M + L m} - \\frac{L M g \\sin{\\left(q_{2 s} \\right)} \\cos{\\left(q_{2 s} \\right)}}{- L M \\cos^{2}{\\left(q_{2 s} \\right)} + L M + L m} + \\frac{L f_{in}}{- L M \\cos^{2}{\\left(q_{2 s} \\right)} + L M + L m} + \\frac{b q2p_{s} \\cos{\\left(q_{2 s} \\right)}}{- L M \\cos^{2}{\\left(q_{2 s} \\right)} + L M + L m}\\\\- \\frac{L^{2} M^{2} q2p_{s}^{2} \\sin{\\left(q_{2 s} \\right)} \\cos{\\left(q_{2 s} \\right)}}{- L^{2} M^{2} \\cos^{2}{\\left(q_{2 s} \\right)} + L^{2} M^{2} + L^{2} M m} + \\frac{L M^{2} g \\sin{\\left(q_{2 s} \\right)}}{- L^{2} M^{2} \\cos^{2}{\\left(q_{2 s} \\right)} + L^{2} M^{2} + L^{2} M m} - \\frac{L M f_{in} \\cos{\\left(q_{2 s} \\right)}}{- L^{2} M^{2} \\cos^{2}{\\left(q_{2 s} \\right)} + L^{2} M^{2} + L^{2} M m} + \\frac{L M g m \\sin{\\left(q_{2 s} \\right)}}{- L^{2} M^{2} \\cos^{2}{\\left(q_{2 s} \\right)} + L^{2} M^{2} + L^{2} M m} - \\frac{M b q2p_{s}}{- L^{2} M^{2} \\cos^{2}{\\left(q_{2 s} \\right)} + L^{2} M^{2} + L^{2} M m} - \\frac{b m q2p_{s}}{- L^{2} M^{2} \\cos^{2}{\\left(q_{2 s} \\right)} + L^{2} M^{2} + L^{2} M m}\\end{matrix}\\right]$"
          },
          "metadata": {}
        }
      ]
    },
    {
      "cell_type": "code",
      "source": [
        "# =============================================================================\n",
        "# 5. System Linearization\n",
        "# =============================================================================\n",
        "print(\"--- 5. System Linearization ---\")\n",
        "# Define equilibrium point and numerical parameters\n",
        "equilibrium_point = {s: 0 for s in x}\n",
        "equilibrium_point.update({s: 0 for s in u})\n",
        "param_values = {m: 0.05, M: 0.5, L: 10e-2, g: 9.81, b: 0.1}\n",
        "\n",
        "# Linearize the system\n",
        "A_sym = xp.jacobian(x)\n",
        "B_sym = xp.jacobian(u)\n",
        "A_lin_sym = A_sym.subs(equilibrium_point)\n",
        "B_lin_sym = B_sym.subs(equilibrium_point)\n",
        "\n",
        "Alin = np.array(A_lin_sym.evalf(subs=param_values, chop=True)).astype(float)\n",
        "Blin = np.array(B_lin_sym.evalf(subs=param_values, chop=True)).astype(float)\n",
        "\n",
        "# =============================================================================\n",
        "# 6. System Simplification (if there are pole/zero cancelations)\n",
        "# =============================================================================\n",
        "print(\"\\n--- 6. System Simplification ---\")\n",
        "# Define the system output (pendulum angle)\n",
        "output_index = 1\n",
        "Clin = np.zeros((1, 2 * ndof))\n",
        "Clin[0, output_index] = 1.0\n",
        "Dlin = np.array([[0]])\n",
        "\n",
        "# Get the minimal realization to find the core 2nd-order dynamics.\n",
        "sys_full_ss = ct.ss(Alin, Blin, Clin, Dlin)\n",
        "\n",
        "print(\"\\nMinimal System Transfer Function:\")\n",
        "sys_min_tf = ct.minreal(ct.tf(sys_full_ss))\n",
        "print(sys_min_tf)\n",
        "\n",
        "sys_min_ss = ct.ss(sys_min_tf)\n",
        "A_min, B_min, C_min, D_min = sys_min_ss.A, sys_min_ss.B, sys_min_ss.C, sys_min_ss.D\n"
      ],
      "metadata": {
        "colab": {
          "base_uri": "https://localhost:8080/"
        },
        "id": "lb8R49NyyVSx",
        "outputId": "54e69ddf-f3e9-473d-d871-df4332e7a06c"
      },
      "execution_count": 6,
      "outputs": [
        {
          "output_type": "stream",
          "name": "stdout",
          "text": [
            "--- 5. System Linearization ---\n",
            "\n",
            "--- 6. System Simplification ---\n",
            "\n",
            "Minimal System Transfer Function:\n",
            "2 states have been removed from the model\n",
            "<TransferFunction>: sys[2]\n",
            "Inputs (1): ['u[0]']\n",
            "Outputs (1): ['y[0]']\n",
            "\n",
            "\n",
            "       -200\n",
            "------------------\n",
            "s^2 + 220 s - 1079\n",
            "\n"
          ]
        }
      ]
    }
  ]
}