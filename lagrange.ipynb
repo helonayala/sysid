{
  "nbformat": 4,
  "nbformat_minor": 0,
  "metadata": {
    "colab": {
      "provenance": [],
      "authorship_tag": "ABX9TyPNn8N8vxeejowPzibjvPX7",
      "include_colab_link": true
    },
    "kernelspec": {
      "name": "python3",
      "display_name": "Python 3"
    },
    "language_info": {
      "name": "python"
    }
  },
  "cells": [
    {
      "cell_type": "markdown",
      "metadata": {
        "id": "view-in-github",
        "colab_type": "text"
      },
      "source": [
        "<a href=\"https://colab.research.google.com/github/helonayala/sysid/blob/main/lagrange.ipynb\" target=\"_parent\"><img src=\"https://colab.research.google.com/assets/colab-badge.svg\" alt=\"Open In Colab\"/></a>"
      ]
    },
    {
      "cell_type": "markdown",
      "source": [
        "# Lagrange equations\n",
        "\n",
        "This script presents a complete workflow for modeling and controlling mechanical system describred by their Lagrange equations.\n",
        "\n",
        "It uses symbolic math to derive the possibly nonlinear equations of motion via Lagrange's method, linearizes the system around its upright equilibrium point, and then designs a state-feedback controller with an observer using pole placement.\n",
        "\n",
        "TODO:\n",
        "* modeling is ready (lagrange and nonlinear ss eqs)\n",
        "* update Gc design and verify the CL poles\n",
        "* run simulation"
      ],
      "metadata": {
        "id": "yxMBOCkgvAc0"
      }
    },
    {
      "cell_type": "code",
      "execution_count": 14,
      "metadata": {
        "colab": {
          "base_uri": "https://localhost:8080/",
          "height": 503
        },
        "id": "pDbSKVszfjij",
        "outputId": "24960a62-2c8a-4187-d32c-7de92a2aecc5"
      },
      "outputs": [
        {
          "output_type": "stream",
          "name": "stdout",
          "text": [
            "--- 1. System Definition ---\n",
            "--- 2. Kinematics, Energy, and Forces ---\n",
            "--- 3. Automated EOM Derivation ---\n",
            "\n",
            "Derived Equations of Motion (EOM):\n"
          ]
        },
        {
          "output_type": "display_data",
          "data": {
            "text/plain": [
              "⎡      ⎛                          2                 2            2        ⎞    ↪\n",
              "⎢      ⎜               ⎛d        ⎞                 d            d         ⎟    ↪\n",
              "⎢1.0⋅M⋅⎜- L⋅sin(q₂(t))⋅⎜──(q₂(t))⎟  + L⋅cos(q₂(t))⋅───(q₂(t)) + ───(q₁(t))⎟ +  ↪\n",
              "⎢      ⎜               ⎝dt       ⎠                   2            2       ⎟    ↪\n",
              "⎢      ⎝                                           dt           dt        ⎠    ↪\n",
              "⎢                                                                              ↪\n",
              "⎢                        ⎛   2                                      2        ⎞ ↪\n",
              "⎢                        ⎜  d                                      d         ⎟ ↪\n",
              "⎢                1.0⋅L⋅M⋅⎜L⋅───(q₂(t)) - g⋅sin(q₂(t)) + cos(q₂(t))⋅───(q₁(t))⎟ ↪\n",
              "⎢                        ⎜    2                                      2       ⎟ ↪\n",
              "⎣                        ⎝  dt                                     dt        ⎠ ↪\n",
              "\n",
              "↪        2        ⎤                 \n",
              "↪       d         ⎥                 \n",
              "↪ 1.0⋅m⋅───(q₁(t))⎥                 \n",
              "↪         2       ⎥   ⎡    fᵢₙ     ⎤\n",
              "↪       dt        ⎥   ⎢            ⎥\n",
              "↪                 ⎥ = ⎢   d        ⎥\n",
              "↪                 ⎥   ⎢-b⋅──(q₂(t))⎥\n",
              "↪                 ⎥   ⎣   dt       ⎦\n",
              "↪                 ⎥                 \n",
              "↪                 ⎥                 \n",
              "↪                 ⎦                 "
            ],
            "text/latex": "$\\displaystyle \\left[\\begin{matrix}1.0 M \\left(- L \\sin{\\left(q_{2}{\\left(t \\right)} \\right)} \\left(\\frac{d}{d t} q_{2}{\\left(t \\right)}\\right)^{2} + L \\cos{\\left(q_{2}{\\left(t \\right)} \\right)} \\frac{d^{2}}{d t^{2}} q_{2}{\\left(t \\right)} + \\frac{d^{2}}{d t^{2}} q_{1}{\\left(t \\right)}\\right) + 1.0 m \\frac{d^{2}}{d t^{2}} q_{1}{\\left(t \\right)}\\\\1.0 L M \\left(L \\frac{d^{2}}{d t^{2}} q_{2}{\\left(t \\right)} - g \\sin{\\left(q_{2}{\\left(t \\right)} \\right)} + \\cos{\\left(q_{2}{\\left(t \\right)} \\right)} \\frac{d^{2}}{d t^{2}} q_{1}{\\left(t \\right)}\\right)\\end{matrix}\\right] = \\left[\\begin{matrix}f_{in}\\\\- b \\frac{d}{d t} q_{2}{\\left(t \\right)}\\end{matrix}\\right]$"
          },
          "metadata": {}
        },
        {
          "output_type": "stream",
          "name": "stdout",
          "text": [
            "\n",
            "--- 4. Automated State-Space Formulation ---\n",
            "\n",
            "State Vector (x):\n"
          ]
        },
        {
          "output_type": "display_data",
          "data": {
            "text/plain": [
              "⎡q₁ ₛ⎤\n",
              "⎢    ⎥\n",
              "⎢q₂ ₛ⎥\n",
              "⎢    ⎥\n",
              "⎢q1pₛ⎥\n",
              "⎢    ⎥\n",
              "⎣q2pₛ⎦"
            ],
            "text/latex": "$\\displaystyle \\left[\\begin{matrix}q_{1 s}\\\\q_{2 s}\\\\q1p_{s}\\\\q2p_{s}\\end{matrix}\\right]$"
          },
          "metadata": {}
        },
        {
          "output_type": "stream",
          "name": "stdout",
          "text": [
            "\n",
            "Input Vector (u):\n"
          ]
        },
        {
          "output_type": "display_data",
          "data": {
            "text/plain": [
              "[fᵢₙ]"
            ],
            "text/latex": "$\\displaystyle \\left[\\begin{matrix}f_{in}\\end{matrix}\\right]$"
          },
          "metadata": {}
        },
        {
          "output_type": "stream",
          "name": "stdout",
          "text": [
            "\n",
            "State Derivative Vector (xp):\n"
          ]
        },
        {
          "output_type": "display_data",
          "data": {
            "text/plain": [
              "⎡                                                                              ↪\n",
              "⎢                                                                              ↪\n",
              "⎢                                                                              ↪\n",
              "⎢                                                                              ↪\n",
              "⎢                                                          2       2           ↪\n",
              "⎢                                                         L ⋅M⋅q2pₛ ⋅sin(q₂ ₛ) ↪\n",
              "⎢                                                     ──────────────────────── ↪\n",
              "⎢                                                              2               ↪\n",
              "⎢                                                     - L⋅M⋅cos (q₂ ₛ) + L⋅M + ↪\n",
              "⎢                                                                              ↪\n",
              "⎢     2  2     2                                     2                         ↪\n",
              "⎢    L ⋅M ⋅q2pₛ ⋅sin(q₂ ₛ)⋅cos(q₂ ₛ)              L⋅M ⋅g⋅sin(q₂ ₛ)             ↪\n",
              "⎢- ─────────────────────────────────── + ─────────────────────────────────── - ↪\n",
              "⎢     2  2    2          2  2    2          2  2    2          2  2    2       ↪\n",
              "⎣  - L ⋅M ⋅cos (q₂ ₛ) + L ⋅M  + L ⋅M⋅m   - L ⋅M ⋅cos (q₂ ₛ) + L ⋅M  + L ⋅M⋅m   ↪\n",
              "\n",
              "↪                                   q1pₛ                                       ↪\n",
              "↪                                                                              ↪\n",
              "↪                                   q2pₛ                                       ↪\n",
              "↪                                                                              ↪\n",
              "↪                                                                              ↪\n",
              "↪         L⋅M⋅g⋅sin(q₂ ₛ)⋅cos(q₂ ₛ)                L⋅fᵢₙ                     b ↪\n",
              "↪ ──── - ──────────────────────────── + ──────────────────────────── + ─────── ↪\n",
              "↪                 2                              2                             ↪\n",
              "↪  L⋅m   - L⋅M⋅cos (q₂ ₛ) + L⋅M + L⋅m   - L⋅M⋅cos (q₂ ₛ) + L⋅M + L⋅m   - L⋅M⋅c ↪\n",
              "↪                                                                              ↪\n",
              "↪                                                                              ↪\n",
              "↪           L⋅M⋅fᵢₙ⋅cos(q₂ ₛ)                     L⋅M⋅g⋅m⋅sin(q₂ ₛ)            ↪\n",
              "↪  ─────────────────────────────────── + ─────────────────────────────────── - ↪\n",
              "↪     2  2    2          2  2    2          2  2    2          2  2    2       ↪\n",
              "↪  - L ⋅M ⋅cos (q₂ ₛ) + L ⋅M  + L ⋅M⋅m   - L ⋅M ⋅cos (q₂ ₛ) + L ⋅M  + L ⋅M⋅m   ↪\n",
              "\n",
              "↪                                                                           ⎤\n",
              "↪                                                                           ⎥\n",
              "↪                                                                           ⎥\n",
              "↪                                                                           ⎥\n",
              "↪                                                                           ⎥\n",
              "↪ ⋅q2pₛ⋅cos(q₂ ₛ)                                                           ⎥\n",
              "↪ ─────────────────────                                                     ⎥\n",
              "↪   2                                                                       ⎥\n",
              "↪ os (q₂ ₛ) + L⋅M + L⋅m                                                     ⎥\n",
              "↪                                                                           ⎥\n",
              "↪                                                                           ⎥\n",
              "↪               M⋅b⋅q2pₛ                              b⋅m⋅q2pₛ              ⎥\n",
              "↪  ─────────────────────────────────── - ───────────────────────────────────⎥\n",
              "↪     2  2    2          2  2    2          2  2    2          2  2    2    ⎥\n",
              "↪  - L ⋅M ⋅cos (q₂ ₛ) + L ⋅M  + L ⋅M⋅m   - L ⋅M ⋅cos (q₂ ₛ) + L ⋅M  + L ⋅M⋅m⎦"
            ],
            "text/latex": "$\\displaystyle \\left[\\begin{matrix}q1p_{s}\\\\q2p_{s}\\\\\\frac{L^{2} M q2p_{s}^{2} \\sin{\\left(q_{2 s} \\right)}}{- L M \\cos^{2}{\\left(q_{2 s} \\right)} + L M + L m} - \\frac{L M g \\sin{\\left(q_{2 s} \\right)} \\cos{\\left(q_{2 s} \\right)}}{- L M \\cos^{2}{\\left(q_{2 s} \\right)} + L M + L m} + \\frac{L f_{in}}{- L M \\cos^{2}{\\left(q_{2 s} \\right)} + L M + L m} + \\frac{b q2p_{s} \\cos{\\left(q_{2 s} \\right)}}{- L M \\cos^{2}{\\left(q_{2 s} \\right)} + L M + L m}\\\\- \\frac{L^{2} M^{2} q2p_{s}^{2} \\sin{\\left(q_{2 s} \\right)} \\cos{\\left(q_{2 s} \\right)}}{- L^{2} M^{2} \\cos^{2}{\\left(q_{2 s} \\right)} + L^{2} M^{2} + L^{2} M m} + \\frac{L M^{2} g \\sin{\\left(q_{2 s} \\right)}}{- L^{2} M^{2} \\cos^{2}{\\left(q_{2 s} \\right)} + L^{2} M^{2} + L^{2} M m} - \\frac{L M f_{in} \\cos{\\left(q_{2 s} \\right)}}{- L^{2} M^{2} \\cos^{2}{\\left(q_{2 s} \\right)} + L^{2} M^{2} + L^{2} M m} + \\frac{L M g m \\sin{\\left(q_{2 s} \\right)}}{- L^{2} M^{2} \\cos^{2}{\\left(q_{2 s} \\right)} + L^{2} M^{2} + L^{2} M m} - \\frac{M b q2p_{s}}{- L^{2} M^{2} \\cos^{2}{\\left(q_{2 s} \\right)} + L^{2} M^{2} + L^{2} M m} - \\frac{b m q2p_{s}}{- L^{2} M^{2} \\cos^{2}{\\left(q_{2 s} \\right)} + L^{2} M^{2} + L^{2} M m}\\end{matrix}\\right]$"
          },
          "metadata": {}
        }
      ],
      "source": [
        "# =============================================================================\n",
        "# Generalized Symbolic Modeling and Control of a Mechanical System\n",
        "# =============================================================================\n",
        "\n",
        "import sympy as sp\n",
        "import numpy as np\n",
        "import control as ct\n",
        "import matplotlib.pyplot as plt\n",
        "from IPython.display import display # For nice mathematical printing\n",
        "\n",
        "# Use SymPy's best available renderer for equations\n",
        "sp.init_printing(use_latex='mathjax')\n",
        "\n",
        "# --- Helper Functions for Generalization ---\n",
        "\n",
        "def create_gen_vars(ndof, t):\n",
        "    \"\"\"Creates symbolic generalized coordinates, velocities, and accelerations.\"\"\"\n",
        "    q = sp.Matrix([sp.Function(f'q{i+1}')(t) for i in range(ndof)])\n",
        "    qp = q.diff(t)\n",
        "    qpp = qp.diff(t)\n",
        "    return q, qp, qpp\n",
        "\n",
        "def derive_eom(T, V, q, Fext, t):\n",
        "    \"\"\"Derives the symbolic EOM using the Euler-Lagrange equation.\"\"\"\n",
        "    ndof = len(q)\n",
        "    L = T - V\n",
        "    qp = q.diff(t)\n",
        "    qpp = qp.diff(t)\n",
        "    EOM_LHS = sp.Matrix([\n",
        "        (sp.diff(sp.diff(L, qp[i]), t) - sp.diff(L, q[i])).simplify()\n",
        "        for i in range(ndof)\n",
        "    ])\n",
        "    return sp.Eq(EOM_LHS, Fext), qpp\n",
        "\n",
        "\n",
        "def get_state_space_representation(EOM, q, qp, qpp, u_vec):\n",
        "    \"\"\"Converts the symbolic EOM into a symbolic state-space representation.\"\"\"\n",
        "    ndof = len(q)\n",
        "    sol = sp.solve(EOM, qpp, dict=True)[0]\n",
        "    q_s = sp.symbols(f'q1:{ndof+1}_s')\n",
        "    qp_s = sp.symbols(f'q1:{ndof+1}p_s')\n",
        "\n",
        "    sub_map = {}\n",
        "    for i in range(ndof):\n",
        "        sub_map[q[i]] = q_s[i]\n",
        "        sub_map[qp[i]] = qp_s[i]\n",
        "        sub_map[sp.sin(q[i])] = sp.sin(q_s[i])\n",
        "        sub_map[sp.cos(q[i])] = sp.cos(q_s[i])\n",
        "\n",
        "    x = sp.Matrix([*q_s, *qp_s])\n",
        "    u = u_vec\n",
        "\n",
        "    xp_list = list(qp_s)\n",
        "    for i in range(ndof):\n",
        "        xp_list.append(sol[qpp[i]].subs(sub_map))\n",
        "    xp = sp.Matrix(xp_list)\n",
        "\n",
        "    return xp, x, u\n",
        "\n",
        "# =============================================================================\n",
        "# 1. System Definition\n",
        "# =============================================================================\n",
        "print(\"--- 1. System Definition ---\")\n",
        "# Define symbolic variables\n",
        "m, M, L, g, t, b = sp.symbols('m M L g t b')\n",
        "f_in = sp.symbols('f_in')\n",
        "\n",
        "# Define generalized coordinates, velocities, and accelerations\n",
        "ndof = 2\n",
        "q, qp, qpp = create_gen_vars(ndof, t)\n",
        "\n",
        "# =============================================================================\n",
        "# 2. Kinematics, Energy, and Forces for the Inverted Pendulum\n",
        "# =============================================================================\n",
        "print(\"--- 2. Kinematics, Energy, and Forces ---\")\n",
        "q1, q2 = q\n",
        "q1p, q2p = qp\n",
        "\n",
        "# Define kinematics\n",
        "x_cart = q1\n",
        "x_pend = q1 + L * sp.sin(q2)\n",
        "y_pend = L * sp.cos(q2)\n",
        "\n",
        "# Calculate velocities\n",
        "v_cart_sq = x_cart.diff(t)**2\n",
        "v_pend_sq = x_pend.diff(t)**2 + y_pend.diff(t)**2\n",
        "\n",
        "# Define potential and kinetic energy\n",
        "V = M * g * y_pend\n",
        "T = 1/2 * m * v_cart_sq + 1/2 * M * sp.simplify(v_pend_sq)\n",
        "\n",
        "# Define generalized forces, including friction\n",
        "Fext = sp.Matrix([f_in, -b * q2p])\n",
        "u_vec = sp.Matrix([f_in])\n",
        "\n",
        "# =============================================================================\n",
        "# 3. Automated EOM Derivation\n",
        "# =============================================================================\n",
        "print(\"--- 3. Automated EOM Derivation ---\")\n",
        "EOM, qpp = derive_eom(T, V, q, Fext, t)\n",
        "\n",
        "# Display the symbolic Equations of Motion\n",
        "print(\"\\nDerived Equations of Motion (EOM):\")\n",
        "display(EOM)\n",
        "\n",
        "# =============================================================================\n",
        "# 4. Automated State-Space Formulation\n",
        "# =============================================================================\n",
        "print(\"\\n--- 4. Automated State-Space Formulation ---\")\n",
        "xp, x, u = get_state_space_representation(EOM, q, qp, qpp, u_vec)\n",
        "\n",
        "# Display the symbolic state-space vectors\n",
        "print(\"\\nState Vector (x):\")\n",
        "display(x)\n",
        "print(\"\\nInput Vector (u):\")\n",
        "display(u)\n",
        "print(\"\\nState Derivative Vector (xp):\")\n",
        "display(xp)\n"
      ]
    },
    {
      "cell_type": "code",
      "source": [
        "\n",
        "# =============================================================================\n",
        "# 5. System Linearization\n",
        "# =============================================================================\n",
        "print(\"--- 5. System Linearization ---\")\n",
        "# Define equilibrium point and numerical parameters\n",
        "equilibrium_point = {s: 0 for s in x}\n",
        "equilibrium_point.update({s: 0 for s in u})\n",
        "param_values = {m: 0.05, M: 0.5, L: 10e-2, g: 9.81, b: 0.1}\n",
        "\n",
        "# Linearize the system\n",
        "A_sym = xp.jacobian(x)\n",
        "B_sym = xp.jacobian(u)\n",
        "A_lin_sym = A_sym.subs(equilibrium_point)\n",
        "B_lin_sym = B_sym.subs(equilibrium_point)\n",
        "\n",
        "Alin = np.array(A_lin_sym.evalf(subs=param_values, chop=True)).astype(float)\n",
        "Blin = np.array(B_lin_sym.evalf(subs=param_values, chop=True)).astype(float)\n",
        "\n",
        "# =============================================================================\n",
        "# 6. System Simplification\n",
        "# =============================================================================\n",
        "print(\"\\n--- 6. System Simplification ---\")\n",
        "# Define the system output (pendulum angle)\n",
        "output_index = 1\n",
        "Clin = np.zeros((1, 2 * ndof))\n",
        "Clin[0, output_index] = 1.0\n",
        "Dlin = np.array([[0]])\n",
        "\n",
        "# Get the minimal realization to find the core 2nd-order dynamics.\n",
        "sys_full_ss = ct.ss(Alin, Blin, Clin, Dlin)\n",
        "\n",
        "print(\"\\nMinimal System Transfer Function:\")\n",
        "sys_min_tf = ct.minreal(ct.tf(sys_full_ss))\n",
        "print(sys_min_tf)\n",
        "\n",
        "sys_min_ss = ct.ss(sys_min_tf)\n",
        "A_min, B_min, C_min, D_min = sys_min_ss.A, sys_min_ss.B, sys_min_ss.C, sys_min_ss.D\n"
      ],
      "metadata": {
        "colab": {
          "base_uri": "https://localhost:8080/"
        },
        "id": "lb8R49NyyVSx",
        "outputId": "e3fa368d-9d84-480c-d579-7856d6b66d06"
      },
      "execution_count": 22,
      "outputs": [
        {
          "output_type": "stream",
          "name": "stdout",
          "text": [
            "--- 5. System Linearization ---\n",
            "\n",
            "--- 6. System Simplification ---\n",
            "\n",
            "Minimal System Transfer Function:\n",
            "2 states have been removed from the model\n",
            "<TransferFunction>: sys[56]\n",
            "Inputs (1): ['u[0]']\n",
            "Outputs (1): ['y[0]']\n",
            "\n",
            "\n",
            "       -200\n",
            "------------------\n",
            "s^2 + 220 s - 1079\n",
            "\n"
          ]
        }
      ]
    },
    {
      "cell_type": "code",
      "source": [
        "\n",
        "# =============================================================================\n",
        "# 7. Control Design and Analysis\n",
        "# =============================================================================\n",
        "print(\"\\n--- 7. Control Design and Analysis ---\")\n",
        "# Define desired pole locations\n",
        "n_poles = A_min.shape[0]\n",
        "P_min = [-5,-6]     # Controller poles\n",
        "Pe_min = [-10, -11]    # Observer poles\n",
        "\n",
        "# Calculate controller and observer gains\n",
        "K_min = ct.place(A_min, B_min, P_min)\n",
        "Ke_min = ct.place(A_min.T, C_min.T, Pe_min).T\n",
        "\n",
        "print(f\"\\nState Feedback Gain K: {K_min}\")\n",
        "print(f\"Observer Gain Ke:\\n{Ke_min}\")\n",
        "\n",
        "# Construct the compensator\n",
        "At_min = A_min - Ke_min @ C_min - B_min @ K_min\n",
        "Bt_min = Ke_min\n",
        "Ct_min = -K_min\n",
        "Dt_min = np.array([[0]])\n",
        "Gc_min = ct.ss(At_min, Bt_min, Ct_min, Dt_min)\n",
        "\n",
        "Gc = ct.tf(Gc_min)\n",
        "print(f\"\\nCompensator Gc:\\n{Gc}\")\n",
        "\n",
        "# Verify the final closed-loop poles\n",
        "Gmf = ct.feedback(Gc*sys_min_tf,1)\n",
        "closed_loop_poles = ct.poles(Gmf)\n",
        "\n",
        "print(\"\\nFinal Closed-Loop Poles:\")\n",
        "print(np.sort(np.round(closed_loop_poles, 4)))\n",
        "print(\"Desired Poles were:\", np.sort(P_min + Pe_min))\n"
      ],
      "metadata": {
        "colab": {
          "base_uri": "https://localhost:8080/"
        },
        "id": "fAjiCsiOzQZj",
        "outputId": "205239e1-4f42-4baa-b7d3-cb73964108b1"
      },
      "execution_count": 25,
      "outputs": [
        {
          "output_type": "stream",
          "name": "stdout",
          "text": [
            "\n",
            "--- 7. Control Design and Analysis ---\n",
            "\n",
            "State Feedback Gain K: [[-209.  1109.1]]\n",
            "Observer Gain Ke:\n",
            "[[-224.8455]\n",
            " [   0.995 ]]\n",
            "\n",
            "Compensator Gc:\n",
            "<TransferFunction>: sys[63]\n",
            "Inputs (1): ['u[0]']\n",
            "Outputs (1): ['y[0]']\n",
            "\n",
            "\n",
            "-4.81e+04 s + 2.31e+05\n",
            "-----------------------\n",
            "s^2 - 188 s + 4.281e+04\n",
            "\n",
            "\n",
            "Final Closed-Loop Poles:\n",
            "[-280.1062  +0.j        4.8015  +0.j      121.6523-232.1628j\n",
            "  121.6523+232.1628j]\n",
            "Desired Poles were: [-11 -10  -6  -5]\n"
          ]
        }
      ]
    }
  ]
}